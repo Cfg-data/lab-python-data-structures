{
 "cells": [
  {
   "cell_type": "markdown",
   "metadata": {
    "tags": []
   },
   "source": [
    "# Lab | Data Structures "
   ]
  },
  {
   "cell_type": "markdown",
   "metadata": {},
   "source": [
    "## Exercise: Managing Customer Orders\n",
    "\n",
    "As part of a business venture, you are starting an online store that sells various products. To ensure smooth operations, you need to develop a program that manages customer orders and inventory.\n",
    "\n",
    "Follow the steps below to complete the exercise:\n",
    "\n",
    "1. Define a list called `products` that contains the following items: \"t-shirt\", \"mug\", \"hat\", \"book\", \"keychain\".\n",
    "\n",
    "2. Create an empty dictionary called `inventory`.\n",
    "\n",
    "3. Ask the user to input the quantity of each product available in the inventory. Use the product names from the `products` list as keys in the `inventory` dictionary and assign the respective quantities as values.\n",
    "\n",
    "4. Create an empty set called `customer_orders`.\n",
    "\n",
    "5. Ask the user to input the name of three products that a customer wants to order (from those in the products list, meaning three products out of \"t-shirt\", \"mug\", \"hat\", \"book\" or \"keychain\". Add each product name to the `customer_orders` set.\n",
    "\n",
    "6. Print the products in the `customer_orders` set.\n",
    "\n",
    "7. Calculate the following order statistics:\n",
    "   - Total Products Ordered: The total number of products in the `customer_orders` set.\n",
    "   - Percentage of Products Ordered: The percentage of products ordered compared to the total available products.\n",
    "   \n",
    "   Store these statistics in a tuple called `order_status`.\n",
    "\n",
    "8. Print the order statistics using the following format:\n",
    "   ```\n",
    "   Order Statistics:\n",
    "   Total Products Ordered: <total_products_ordered>\n",
    "   Percentage of Products Ordered: <percentage_ordered>% \n",
    "   ```\n",
    "\n",
    "9. Update the inventory by subtracting 1 from the quantity of each product. Modify the `inventory` dictionary accordingly.\n",
    "\n",
    "10. Print the updated inventory, displaying the quantity of each product on separate lines.\n",
    "\n",
    "Solve the exercise by implementing the steps using the Python concepts of lists, dictionaries, sets, and basic input/output operations. "
   ]
  },
  {
   "cell_type": "code",
   "execution_count": 22,
   "metadata": {},
   "outputs": [
    {
     "name": "stdin",
     "output_type": "stream",
     "text": [
      "Enter the quantity for t-shirt:  52\n",
      "Enter the quantity for mug:  48\n",
      "Enter the quantity for hat:  96\n",
      "Enter the quantity for book:  15\n",
      "Enter the quantity for keychain:  30\n"
     ]
    },
    {
     "name": "stdout",
     "output_type": "stream",
     "text": [
      "Inventory: {'t-shirt': 52, 'mug': 48, 'hat': 96, 'book': 15, 'keychain': 30}\n"
     ]
    },
    {
     "name": "stdin",
     "output_type": "stream",
     "text": [
      "Enter the product name (t-shirt, mug, hat, book, keychain):  mug\n",
      "Enter the order amount for mug:  15\n",
      "Enter the product name (t-shirt, mug, hat, book, keychain):  hat\n",
      "Enter the order amount for hat:  58\n",
      "Enter the product name (t-shirt, mug, hat, book, keychain):  book\n",
      "Enter the order amount for book:  5\n"
     ]
    },
    {
     "name": "stdout",
     "output_type": "stream",
     "text": [
      "Customer Orders: {'t-shirt': set(), 'mug': {15}, 'hat': {58}, 'book': {5}, 'keychain': set()}\n",
      "Updated Inventory:\n",
      "t-shirt: 30\n",
      "mug: 30\n",
      "hat: 30\n",
      "book: 30\n",
      "keychain: 30\n"
     ]
    }
   ],
   "source": [
    "products = [\"t-shirt\", \"mug\", \"hat\", \"book\", \"keychain\"]\n",
    "inventory = {product: 0 for product in products}\n",
    "\n",
    "for product in products:\n",
    "    quantity = int(input(f\"Enter the quantity for {product}: \"))\n",
    "    inventory[product] += quantity\n",
    "\n",
    "print(\"Inventory:\", inventory)\n",
    "\n",
    "customer_orders = {product: set() for product in products}\n",
    "\n",
    "for _ in range(3):  # Allow the user to input 3 orders\n",
    "    product = input(\"Enter the product name (t-shirt, mug, hat, book, keychain): \")\n",
    "    if product in products:\n",
    "        amount = int(input(f\"Enter the order amount for {product}: \"))\n",
    "        customer_orders[product].add(amount)  # Add the order amount to the set\n",
    "    else:\n",
    "        print(\"Invalid product name. Please try again.\")\n",
    "\n",
    "print(\"Customer Orders:\", customer_orders)\n",
    "\n",
    "# Assuming the previous code has been executed and inventory is updated\n",
    "print(\"Updated Inventory:\")\n",
    "for product in customer_orders:\n",
    "    inventory[product] -= 1\n",
    "    print(f\"{product}: {quantity}\")"
   ]
  },
  {
   "cell_type": "code",
   "execution_count": 24,
   "metadata": {},
   "outputs": [
    {
     "name": "stdout",
     "output_type": "stream",
     "text": [
      "Order Statistics:\n",
      "Total Products Ordered: 5\n",
      "Percentage of t-shirt Ordered: 0.00%\n",
      "Percentage of mug Ordered: 64.58%\n",
      "Percentage of hat Ordered: 77.78%\n",
      "Percentage of book Ordered: 0.00%\n",
      "Percentage of keychain Ordered: 0.00%\n"
     ]
    }
   ],
   "source": [
    "# Calculate total products ordered\n",
    "total_products_ordered = len(customer_orders)\n",
    "\n",
    "# Calculate percentage of products ordered compared to inventory\n",
    "percentage_ordered = (total_products_ordered / len(products)) * 100\n",
    "\n",
    "# Create the order_status tuple\n",
    "order_status = (total_products_ordered, percentage_ordered)\n",
    "\n",
    "# Print the results\n",
    "print(\"Order Statistics:\")\n",
    "print(f\"Total Products Ordered: {order_status[0]}\")\n",
    "for product in products:\n",
    "    print(f\"Percentage of {product} Ordered: {percentages[product]:.2f}%\")\n",
    "    "
   ]
  }
 ],
 "metadata": {
  "kernelspec": {
   "display_name": "Python 3 (ipykernel)",
   "language": "python",
   "name": "python3"
  },
  "language_info": {
   "codemirror_mode": {
    "name": "ipython",
    "version": 3
   },
   "file_extension": ".py",
   "mimetype": "text/x-python",
   "name": "python",
   "nbconvert_exporter": "python",
   "pygments_lexer": "ipython3",
   "version": "3.12.4"
  }
 },
 "nbformat": 4,
 "nbformat_minor": 4
}
